{
  "cells": [
    {
      "cell_type": "code",
      "source": [
        "import numpy as np\n",
        "import pandas as pd\n",
        "import matplotlib.pyplot as plt\n",
        "import seaborn as sns\n",
        "%matplotlib inline"
      ],
      "metadata": {
        "id": "E64Hqxld4mdR"
      },
      "id": "E64Hqxld4mdR",
      "execution_count": 101,
      "outputs": []
    },
    {
      "cell_type": "code",
      "source": [
        "# award_winner\n",
        "# booking.csv\n",
        "# goals.csv\n",
        "# ? group_stand ?\n",
        "# host countries\n",
        "# penalty\n",
        "# qualify\n",
        "# "
      ],
      "metadata": {
        "id": "tYsJZorW-JiZ"
      },
      "id": "tYsJZorW-JiZ",
      "execution_count": 109,
      "outputs": []
    },
    {
      "cell_type": "code",
      "source": [
        "goals = pd.read_csv(\"https://raw.githubusercontent.com/jfjelstul/worldcup/master/data-csv/goals.csv\")\n",
        "award_winner = pd.read_csv(\"https://raw.githubusercontent.com/jfjelstul/worldcup/master/data-csv/award_winners.csv\")\n",
        "booking = pd.read_csv(\"https://raw.githubusercontent.com/jfjelstul/worldcup/master/data-csv/bookings.csv\")\n",
        "host_countries = pd.read_csv(\"https://raw.githubusercontent.com/jfjelstul/worldcup/master/data-csv/host_countries.csv\")\n",
        "penalty = pd.read_csv(\"https://raw.githubusercontent.com/jfjelstul/worldcup/master/data-csv/penalty_kicks.csv\")\n",
        "qualify = pd.read_csv(\"https://raw.githubusercontent.com/jfjelstul/worldcup/master/data-csv/qualified_teams.csv\")\n",
        "matches = pd.read_csv(\"https://raw.githubusercontent.com/jfjelstul/worldcup/master/data-csv/matches.csv\")"
      ],
      "metadata": {
        "id": "wkpsV6Cd4m3B"
      },
      "id": "wkpsV6Cd4m3B",
      "execution_count": 110,
      "outputs": []
    },
    {
      "cell_type": "code",
      "source": [
        "award_winner.shape , goals.shape , booking.shape , host_countries.shape , penalty.shape , qualify.shape , matches.shape"
      ],
      "metadata": {
        "id": "Q9HbpBvP5Bdz",
        "outputId": "bb9bf8c1-d491-42b9-faf9-4dc24105ba40",
        "colab": {
          "base_uri": "https://localhost:8080/"
        }
      },
      "id": "Q9HbpBvP5Bdz",
      "execution_count": 115,
      "outputs": [
        {
          "output_type": "execute_result",
          "data": {
            "text/plain": [
              "((141, 12), (2720, 27), (2691, 26), (23, 7), (320, 19), (489, 8), (2720, 27))"
            ]
          },
          "metadata": {},
          "execution_count": 115
        }
      ]
    },
    {
      "cell_type": "code",
      "source": [
        " "
      ],
      "metadata": {
        "id": "wZS4F-Np5JOc"
      },
      "id": "wZS4F-Np5JOc",
      "execution_count": 110,
      "outputs": []
    },
    {
      "cell_type": "code",
      "source": [],
      "metadata": {
        "id": "PID_juFN6N3I"
      },
      "id": "PID_juFN6N3I",
      "execution_count": null,
      "outputs": []
    }
  ],
  "metadata": {
    "kernelspec": {
      "display_name": "Python 3 (ipykernel)",
      "language": "python",
      "name": "python3"
    },
    "language_info": {
      "codemirror_mode": {
        "name": "ipython",
        "version": 3
      },
      "file_extension": ".py",
      "mimetype": "text/x-python",
      "name": "python",
      "nbconvert_exporter": "python",
      "pygments_lexer": "ipython3",
      "version": "3.9.13"
    },
    "colab": {
      "provenance": []
    }
  },
  "nbformat": 4,
  "nbformat_minor": 5
}